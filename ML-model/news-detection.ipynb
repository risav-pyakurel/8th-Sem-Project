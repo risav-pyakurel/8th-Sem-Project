{
 "cells": [
  {
   "cell_type": "code",
   "execution_count": 1,
   "metadata": {},
   "outputs": [],
   "source": [
    "import pandas as pd\n",
    "import seaborn as sns\n",
    "import matplotlib.pyplot as plt"
   ]
  },
  {
   "cell_type": "code",
   "execution_count": 14,
   "metadata": {},
   "outputs": [
    {
     "name": "stdout",
     "output_type": "stream",
     "text": [
      "                                                    text subject  class\n",
      "0      Donald Trump just couldn t wish all Americans ...    News    0.0\n",
      "1      House Intelligence Committee Chairman Devin Nu...    News    0.0\n",
      "2      On Friday, it was revealed that former Milwauk...    News    0.0\n",
      "3      On Christmas day, Donald Trump announced that ...    News    0.0\n",
      "4      Pope Francis used his annual Christmas Day mes...    News    0.0\n",
      "...                                                  ...     ...    ...\n",
      "58714  \"The Affordable Care Act, the health care refo...  health    0.0\n",
      "58715  \"President Donald Trump said the latest Republ...  health    0.0\n",
      "58716  \"U.S. Rep. Tom Tiffany, a Republican who won a...  health    0.0\n",
      "58717  Men in Teesside have the same life expectancy ...  health    0.0\n",
      "58718  \"When it comes to federal health care reform, ...  health    0.0\n",
      "\n",
      "[58719 rows x 3 columns]\n"
     ]
    }
   ],
   "source": [
    "data = pd.read_csv('News.csv', index_col=0)\n",
    "data = data.drop([\"title\", \"date\"], axis=1)\n",
    "print(data)"
   ]
  },
  {
   "cell_type": "code",
   "execution_count": 15,
   "metadata": {},
   "outputs": [
    {
     "data": {
      "text/plain": [
       "text       63\n",
       "subject    63\n",
       "class      84\n",
       "dtype: int64"
      ]
     },
     "execution_count": 15,
     "metadata": {},
     "output_type": "execute_result"
    }
   ],
   "source": [
    "data.isnull().sum()"
   ]
  },
  {
   "cell_type": "code",
   "execution_count": 21,
   "metadata": {},
   "outputs": [
    {
     "data": {
      "text/plain": [
       "text       0\n",
       "subject    0\n",
       "class      0\n",
       "dtype: int64"
      ]
     },
     "execution_count": 21,
     "metadata": {},
     "output_type": "execute_result"
    }
   ],
   "source": [
    "data_cleaned = data.dropna()\n",
    "data_cleaned.isnull().sum()"
   ]
  },
  {
   "cell_type": "code",
   "execution_count": 22,
   "metadata": {},
   "outputs": [
    {
     "data": {
      "text/html": [
       "<div>\n",
       "<style scoped>\n",
       "    .dataframe tbody tr th:only-of-type {\n",
       "        vertical-align: middle;\n",
       "    }\n",
       "\n",
       "    .dataframe tbody tr th {\n",
       "        vertical-align: top;\n",
       "    }\n",
       "\n",
       "    .dataframe thead th {\n",
       "        text-align: right;\n",
       "    }\n",
       "</style>\n",
       "<table border=\"1\" class=\"dataframe\">\n",
       "  <thead>\n",
       "    <tr style=\"text-align: right;\">\n",
       "      <th></th>\n",
       "      <th>text</th>\n",
       "      <th>subject</th>\n",
       "      <th>class</th>\n",
       "    </tr>\n",
       "  </thead>\n",
       "  <tbody>\n",
       "    <tr>\n",
       "      <th>0</th>\n",
       "      <td>Donald Trump just couldn t wish all Americans ...</td>\n",
       "      <td>News</td>\n",
       "      <td>0.0</td>\n",
       "    </tr>\n",
       "    <tr>\n",
       "      <th>1</th>\n",
       "      <td>House Intelligence Committee Chairman Devin Nu...</td>\n",
       "      <td>News</td>\n",
       "      <td>0.0</td>\n",
       "    </tr>\n",
       "    <tr>\n",
       "      <th>2</th>\n",
       "      <td>On Friday, it was revealed that former Milwauk...</td>\n",
       "      <td>News</td>\n",
       "      <td>0.0</td>\n",
       "    </tr>\n",
       "    <tr>\n",
       "      <th>3</th>\n",
       "      <td>On Christmas day, Donald Trump announced that ...</td>\n",
       "      <td>News</td>\n",
       "      <td>0.0</td>\n",
       "    </tr>\n",
       "    <tr>\n",
       "      <th>4</th>\n",
       "      <td>Pope Francis used his annual Christmas Day mes...</td>\n",
       "      <td>News</td>\n",
       "      <td>0.0</td>\n",
       "    </tr>\n",
       "    <tr>\n",
       "      <th>...</th>\n",
       "      <td>...</td>\n",
       "      <td>...</td>\n",
       "      <td>...</td>\n",
       "    </tr>\n",
       "    <tr>\n",
       "      <th>58714</th>\n",
       "      <td>\"The Affordable Care Act, the health care refo...</td>\n",
       "      <td>health</td>\n",
       "      <td>0.0</td>\n",
       "    </tr>\n",
       "    <tr>\n",
       "      <th>58715</th>\n",
       "      <td>\"President Donald Trump said the latest Republ...</td>\n",
       "      <td>health</td>\n",
       "      <td>0.0</td>\n",
       "    </tr>\n",
       "    <tr>\n",
       "      <th>58716</th>\n",
       "      <td>\"U.S. Rep. Tom Tiffany, a Republican who won a...</td>\n",
       "      <td>health</td>\n",
       "      <td>0.0</td>\n",
       "    </tr>\n",
       "    <tr>\n",
       "      <th>58717</th>\n",
       "      <td>Men in Teesside have the same life expectancy ...</td>\n",
       "      <td>health</td>\n",
       "      <td>0.0</td>\n",
       "    </tr>\n",
       "    <tr>\n",
       "      <th>58718</th>\n",
       "      <td>\"When it comes to federal health care reform, ...</td>\n",
       "      <td>health</td>\n",
       "      <td>0.0</td>\n",
       "    </tr>\n",
       "  </tbody>\n",
       "</table>\n",
       "<p>58635 rows × 3 columns</p>\n",
       "</div>"
      ],
      "text/plain": [
       "                                                    text subject  class\n",
       "0      Donald Trump just couldn t wish all Americans ...    News    0.0\n",
       "1      House Intelligence Committee Chairman Devin Nu...    News    0.0\n",
       "2      On Friday, it was revealed that former Milwauk...    News    0.0\n",
       "3      On Christmas day, Donald Trump announced that ...    News    0.0\n",
       "4      Pope Francis used his annual Christmas Day mes...    News    0.0\n",
       "...                                                  ...     ...    ...\n",
       "58714  \"The Affordable Care Act, the health care refo...  health    0.0\n",
       "58715  \"President Donald Trump said the latest Republ...  health    0.0\n",
       "58716  \"U.S. Rep. Tom Tiffany, a Republican who won a...  health    0.0\n",
       "58717  Men in Teesside have the same life expectancy ...  health    0.0\n",
       "58718  \"When it comes to federal health care reform, ...  health    0.0\n",
       "\n",
       "[58635 rows x 3 columns]"
      ]
     },
     "execution_count": 22,
     "metadata": {},
     "output_type": "execute_result"
    }
   ],
   "source": [
    "data_cleaned"
   ]
  },
  {
   "cell_type": "code",
   "execution_count": 23,
   "metadata": {},
   "outputs": [
    {
     "name": "stdout",
     "output_type": "stream",
     "text": [
      "0          News\n",
      "1          News\n",
      "2          News\n",
      "3          News\n",
      "4          News\n",
      "          ...  \n",
      "58714    health\n",
      "58715    health\n",
      "58716    health\n",
      "58717    health\n",
      "58718    health\n",
      "Name: subject, Length: 58635, dtype: object\n",
      "\n",
      "count      58635\n",
      "unique        21\n",
      "top       health\n",
      "freq       13736\n",
      "Name: subject, dtype: object\n",
      "\n"
     ]
    }
   ],
   "source": [
    "\n",
    "column_subject = 'subject'\n",
    "column_data = data_cleaned[column_subject]\n",
    "print(column_data)\n",
    "print()\n",
    "column_stats = data_cleaned[column_subject].describe()\n",
    "print(column_stats)\n",
    "print()\n",
    "unique_data = data_cleaned[column_subject].unique()"
   ]
  }
 ],
 "metadata": {
  "kernelspec": {
   "display_name": ".venv",
   "language": "python",
   "name": "python3"
  },
  "language_info": {
   "codemirror_mode": {
    "name": "ipython",
    "version": 3
   },
   "file_extension": ".py",
   "mimetype": "text/x-python",
   "name": "python",
   "nbconvert_exporter": "python",
   "pygments_lexer": "ipython3",
   "version": "3.12.3"
  }
 },
 "nbformat": 4,
 "nbformat_minor": 2
}
